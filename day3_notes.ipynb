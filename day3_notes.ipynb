{
 "cells": [
  {
   "cell_type": "markdown",
   "metadata": {},
   "source": [
    "## Hashing\n",
    "\n",
    "- set number of chars -> length remains the same\n",
    "- always get a different hash with repeating passwords -> unique\n",
    "- one way function | can't reverse hash to standard password\n",
    "- highly sensitive -> will change if one letter is changed\n",
    "- fingerprint of the input\n",
    "- same password, same hash\n",
    "- salting | adding random string before password to change hash\n",
    "\n",
    "## Ecryption key\n",
    "- way to decript encrytion password\n",
    "- can be reversed | problem\n",
    "\n",
    "## Mongo DB\n",
    "- projections\n",
    "    1. Inclusion\n",
    "        - db.movies.find({}, {name: 1, rating: 1}) -> 1 = including\n",
    "    2. Exclusion\n",
    "        - db.movies.find({}, {summary: 0, trailer: 0}) -> 0 = not including\n",
    "    - can't mix inclusion and exclusion\n",
    "    - exception: if you don't want it to return an id = _id: 0  \n",
    "\n",
    "### Filter movies with greatr than 8.5 but only name and rating\n",
    "```\n",
    "db.movies.find({rating: {\"$gt\": 8.5}}, {_id: 0, name: 1, rating: 1} )\n",
    "```\n",
    "\n",
    "### Sorting\n",
    "- ascending | 1\n",
    "```\n",
    "db.movies.find({}).sort({rating: 1})\n",
    "```\n",
    "- descending | -1\n",
    "```\n",
    "db.movies.find({}).sort({rating: -1})\n",
    "```\n",
    "### Compound sorting\n",
    "- ordering movies with the same ratings\n",
    "```\n",
    "db.movies.find({}, {_id: 0, name: 1, rating: 1}).sort({rating: -1, name: 1})\n",
    "```\n",
    "### First 3\n",
    "```\n",
    "db.movies.find({}, {_id: 0, name: 1, rating: 1}).sort({rating: -1, name: 1}).limit(3)\n",
    "```\n",
    "### Skip first 3 \n",
    "```\n",
    "db.movies.find({}, {_id: 0, name: 1, rating: 1}).sort({rating: -1, name: 1}).limit(3).skip(3)\n",
    "```"
   ]
  },
  {
   "cell_type": "markdown",
   "metadata": {},
   "source": [
    "### Database trade-off\n",
    "\n",
    "- slow reading and fast inserting - SQL\n",
    "OR\n",
    "- fast reading and slow inserting - MONGO\n",
    "\n",
    "- can't be fast at both"
   ]
  },
  {
   "cell_type": "markdown",
   "metadata": {},
   "source": [
    "## Aggregations\n",
    "```\n",
    "db.orders.find({}, {_id:1})\n",
    "```\n",
    "- SQL\n",
    "```\n",
    "SELECT productName, SUM(quantity) AS totalQuantity\n",
    "FROM orders\n",
    "WHERE status = 'urgent'\n",
    "GROUP BY productName\n",
    "```\n",
    "- MongoDB\n",
    "```\n",
    "db.orders.aggregate([\n",
    "  { $match: { status: 'urgent' }},\n",
    "  {$group: {\n",
    "      _id: '$productName', \n",
    "      totalQuantity: { $sum: '$quantity' }\n",
    "  }}\n",
    "]);\n",
    "\n",
    "```\n",
    "- if you want to mention value inside the key, $fieldName"
   ]
  }
 ],
 "metadata": {
  "language_info": {
   "name": "python"
  }
 },
 "nbformat": 4,
 "nbformat_minor": 2
}
