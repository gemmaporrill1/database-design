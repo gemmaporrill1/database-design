{
 "cells": [
  {
   "cell_type": "markdown",
   "metadata": {},
   "source": [
    "## Database Design\n",
    "\n",
    "- Products:\n",
    "    - CRM\n",
    "    - ERP\n",
    "    - Sales management\n",
    "\n",
    "### Order\n",
    "-----\n",
    "- Data Lake\n",
    "    - storage, cheaper than warehouse\n",
    "- Data Warehouse\n",
    "    - want to find trends across the systems \n",
    "    - BI tools\n",
    "    - ML \n",
    "    - Pandas \n",
    "    - analyse visuals\n",
    "    - has a database that is available, more expensive\n",
    "- Data Mart\n",
    "- App\n"
   ]
  }
 ],
 "metadata": {
  "language_info": {
   "name": "python"
  }
 },
 "nbformat": 4,
 "nbformat_minor": 2
}
