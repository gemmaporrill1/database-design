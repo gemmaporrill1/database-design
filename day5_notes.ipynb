{
 "cells": [
  {
   "cell_type": "markdown",
   "metadata": {},
   "source": [
    "## Day 5\n",
    "\n",
    "- Snowflake schema\n",
    "- Star schema\n",
    "\n",
    "- CI/CD\n",
    "\n",
    "- SAAS\n",
    "- PAAS - hiding complexity that comes with IaaS, abstracting\n",
    "- IAAS - infrastructure as a service, real pyshical things, computer is infra, AWS gives as a service for rent in cloud\n",
    "\n",
    "- EDA\n",
    "\n",
    "- Models :\n",
    "    1. Simple\n",
    "    2. Complex\n",
    "    3. Ensemble\n",
    "\n"
   ]
  },
  {
   "cell_type": "markdown",
   "metadata": {},
   "source": []
  }
 ],
 "metadata": {
  "language_info": {
   "name": "python"
  }
 },
 "nbformat": 4,
 "nbformat_minor": 2
}
